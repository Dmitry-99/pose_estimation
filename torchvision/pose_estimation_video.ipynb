{
 "cells": [
  {
   "cell_type": "code",
   "execution_count": 1,
   "id": "08c93ed6",
   "metadata": {},
   "outputs": [],
   "source": [
    "import torch\n",
    "import torchvision\n",
    "import cv2\n",
    "import argparse\n",
    "import utils\n",
    "import time\n",
    "from PIL import Image\n",
    "from torchvision.transforms import transforms as transforms"
   ]
  },
  {
   "cell_type": "code",
   "execution_count": 2,
   "id": "236e25d5",
   "metadata": {},
   "outputs": [
    {
     "name": "stdout",
     "output_type": "stream",
     "text": [
      "Average FPS: 0.087\n"
     ]
    }
   ],
   "source": [
    "transform = transforms.Compose([\n",
    "    transforms.ToTensor()\n",
    "])\n",
    "# initialize the model\n",
    "model = torchvision.models.detection.keypointrcnn_resnet50_fpn(pretrained=True,\n",
    "                                                               num_keypoints=17)\n",
    "# set the computation device\n",
    "device = torch.device('cuda' if torch.cuda.is_available() else 'cpu')\n",
    "# load the modle on to the computation device and set to eval mode\n",
    "model.to(device).eval()\n",
    "\n",
    "cap = cv2.VideoCapture(0)\n",
    "total_fps, frame_count = 0, 0\n",
    "while(cap.isOpened()):\n",
    "    # capture each frame of the video\n",
    "    ret, frame = cap.read()\n",
    "    if ret == True:\n",
    "        \n",
    "        pil_image = Image.fromarray(frame).convert('RGB')\n",
    "        orig_frame = frame\n",
    "        # transform the image\n",
    "        image = transform(pil_image)\n",
    "        # add a batch dimension\n",
    "        image = image.unsqueeze(0).to(device)\n",
    "        # get the start time\n",
    "        start_time = time.time()\n",
    "        with torch.no_grad():\n",
    "            outputs = model(image)\n",
    "        # get the end time\n",
    "        end_time = time.time()\n",
    "        output_image = utils.draw_keypoints(outputs, orig_frame)\n",
    "        # get the fps\n",
    "        fps = 1 / (end_time - start_time)\n",
    "        # add fps to total fps\n",
    "        total_fps += fps\n",
    "        # increment frame count\n",
    "        frame_count += 1\n",
    "        wait_time = max(1, int(fps/4))\n",
    "        cv2.imshow('Pose detection frame', output_image)\n",
    "        #out.write(output_image)\n",
    "        # press `q` to exit\n",
    "        if cv2.waitKey(wait_time) & 0xFF == ord('q'):\n",
    "            break\n",
    "    else:\n",
    "        break\n",
    "cap.release()\n",
    "# close all frames and video windows\n",
    "cv2.destroyAllWindows()\n",
    "# calculate and print the average FPS\n",
    "avg_fps = total_fps / frame_count\n",
    "print(f\"Average FPS: {avg_fps:.3f}\")"
   ]
  },
  {
   "cell_type": "code",
   "execution_count": null,
   "id": "2ab4c597",
   "metadata": {},
   "outputs": [],
   "source": []
  }
 ],
 "metadata": {
  "kernelspec": {
   "display_name": "Python 3 (ipykernel)",
   "language": "python",
   "name": "python3"
  },
  "language_info": {
   "codemirror_mode": {
    "name": "ipython",
    "version": 3
   },
   "file_extension": ".py",
   "mimetype": "text/x-python",
   "name": "python",
   "nbconvert_exporter": "python",
   "pygments_lexer": "ipython3",
   "version": "3.8.8"
  }
 },
 "nbformat": 4,
 "nbformat_minor": 5
}
